{
  "cells": [
    {
      "cell_type": "code",
      "execution_count": null,
      "id": "66e3dd84",
      "metadata": {
        "id": "66e3dd84"
      },
      "outputs": [],
      "source": [
        "\n",
        "import numpy as np\n",
        "import pandas as pd\n"
      ]
    },
    {
      "cell_type": "code",
      "execution_count": null,
      "id": "1bae6993",
      "metadata": {
        "id": "1bae6993"
      },
      "outputs": [],
      "source": [
        "\n",
        "\n",
        "df = pd.read_csv(\"C:\\\\Users\\\\Shree com\\\\Desktop\\\\Data\\\\tips.csv\")\n",
        "\n",
        "df.head()\n"
      ]
    },
    {
      "cell_type": "code",
      "execution_count": null,
      "id": "27452fa6",
      "metadata": {
        "id": "27452fa6"
      },
      "outputs": [],
      "source": [
        "\n",
        "import plotly.express as px\n",
        "import plotly.graph_objects as go\n",
        "\n"
      ]
    },
    {
      "cell_type": "code",
      "execution_count": null,
      "id": "e2e81949",
      "metadata": {
        "id": "e2e81949"
      },
      "outputs": [],
      "source": [
        "\n",
        "\n",
        "figure  = px.scatter(data_frame = df , x = \"total_bill\" , y = \"tip\" , size = \"size\" , color = \"day\" ,trendline = \"ols\" )\n",
        "figure.show()\n",
        "\n"
      ]
    },
    {
      "cell_type": "code",
      "execution_count": null,
      "id": "50ce9053",
      "metadata": {
        "id": "50ce9053"
      },
      "outputs": [],
      "source": [
        "\n",
        "\n",
        "\n",
        "x = np.array(df[[\"total_bill\", \"sex\", \"smoker\", \"day\",\n",
        "                   \"time\", \"size\"]])\n",
        "y = np.array(df[\"tip\"])\n",
        "\n"
      ]
    },
    {
      "cell_type": "code",
      "execution_count": null,
      "id": "79b46462",
      "metadata": {
        "id": "79b46462"
      },
      "outputs": [],
      "source": [
        "\n",
        "\n",
        "from sklearn.model_selection import train_test_split\n",
        "x_train, x_test, y_train, y_test = train_test_split(x, y,\n",
        "                                                test_size=0.2,\n",
        "                                                random_state=42)\n"
      ]
    },
    {
      "cell_type": "code",
      "execution_count": null,
      "id": "e48e3d05",
      "metadata": {
        "id": "e48e3d05"
      },
      "outputs": [],
      "source": [
        "\n",
        "\n",
        "\n",
        "from sklearn.linear_model import LinearRegression\n",
        "lr = LinearRegression()\n",
        "lr.fit(x_train , y_train)\n"
      ]
    },
    {
      "cell_type": "code",
      "execution_count": null,
      "id": "dc418b70",
      "metadata": {
        "id": "dc418b70"
      },
      "outputs": [],
      "source": [
        "\n",
        "\n",
        "features = np.array([[24.50, 1, 0, 0, 1, 4]])\n",
        "lr.predict(features)\n",
        "array([3.73742609])\n",
        ""
      ]
    }
  ],
  "metadata": {
    "kernelspec": {
      "display_name": "Python 3 (ipykernel)",
      "language": "python",
      "name": "python3"
    },
    "language_info": {
      "codemirror_mode": {
        "name": "ipython",
        "version": 3
      },
      "file_extension": ".py",
      "mimetype": "text/x-python",
      "name": "python",
      "nbconvert_exporter": "python",
      "pygments_lexer": "ipython3",
      "version": "3.10.9"
    },
    "colab": {
      "provenance": []
    }
  },
  "nbformat": 4,
  "nbformat_minor": 5
}