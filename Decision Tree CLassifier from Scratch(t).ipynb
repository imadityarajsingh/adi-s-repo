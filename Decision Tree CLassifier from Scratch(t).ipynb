{
 "cells": [
  {
   "cell_type": "markdown",
   "id": "38e2f357",
   "metadata": {},
   "source": [
    "# Decision trees are supervised machine learning algorithms used for both classification and regression tasks. They create a model that predicts the value of a target variable based on several input features."
   ]
  },
  {
   "cell_type": "markdown",
   "id": "4d30355e",
   "metadata": {},
   "source": [
    "# Here's a step-by-step explanation of the decision tree algorithm:\n",
    "\n",
    "(1). Data Preparation: Start by preparing your dataset. Ensure that your data is in a structured format, with the target variable and input features properly defined.\n",
    "    \n",
    "\n",
    "(2). Splitting Criteria: Decide on the splitting criterion to measure the quality of a split. Common measures include Gini impurity and entropy. Gini impurity measures the probability of misclassifying a randomly chosen element, while entropy measures the average amount of information required to classify an element.\n",
    "    \n",
    "\n",
    "(3). Tree Construction: Begin constructing the decision tree recursively. At each step, select the best feature and splitting point based on the splitting criterion. Split the dataset into subsets based on this selected feature and point. Repeat this process for each subset until a stopping condition is met.\n",
    "    \n",
    "\n",
    "(4). Stopping Conditions: Determine the stopping conditions for tree construction. This could include reaching a maximum depth, reaching a minimum number of samples in a node, or other predefined criteria.\n",
    "    \n",
    "\n",
    "(5). Leaf Node Prediction: Once a stopping condition is met, assign a class or regression value to the leaf node based on the majority class or mean value of the samples in that node.\n",
    "    \n",
    "\n",
    "(6). Pruning: Optionally, you can perform pruning techniques such as post-pruning or pre-pruning to reduce overfitting and improve generalization.\n",
    "    "
   ]
  },
  {
   "cell_type": "code",
   "execution_count": 8,
   "id": "c43ab977",
   "metadata": {},
   "outputs": [],
   "source": [
    "from sklearn import datasets\n",
    "from sklearn.model_selection import train_test_split\n",
    "from sklearn.tree import DecisionTreeClassifier\n",
    "from sklearn.metrics import accuracy_score , r2_score"
   ]
  },
  {
   "cell_type": "code",
   "execution_count": 9,
   "id": "6b65b065",
   "metadata": {},
   "outputs": [],
   "source": [
    "# Load the dataset (example: Iris dataset)\n",
    "iris = datasets.load_iris()\n",
    "X = iris.data\n",
    "y = iris.target\n"
   ]
  },
  {
   "cell_type": "code",
   "execution_count": 10,
   "id": "eeeaacf2",
   "metadata": {},
   "outputs": [],
   "source": [
    "X_train , X_test , y_train , y_test = train_test_split(X,y,test_size = 0.2 , random_state = 42) "
   ]
  },
  {
   "cell_type": "code",
   "execution_count": 11,
   "id": "7771373e",
   "metadata": {},
   "outputs": [],
   "source": [
    "dt = DecisionTreeClassifier() "
   ]
  },
  {
   "cell_type": "code",
   "execution_count": 12,
   "id": "36196773",
   "metadata": {},
   "outputs": [
    {
     "data": {
      "text/plain": [
       "DecisionTreeClassifier()"
      ]
     },
     "execution_count": 12,
     "metadata": {},
     "output_type": "execute_result"
    }
   ],
   "source": [
    "dt.fit(X_train , y_train) "
   ]
  },
  {
   "cell_type": "code",
   "execution_count": 13,
   "id": "d72c0452",
   "metadata": {},
   "outputs": [],
   "source": [
    "y_pred = dt.predict(X_test) "
   ]
  },
  {
   "cell_type": "code",
   "execution_count": 14,
   "id": "a1f059d9",
   "metadata": {},
   "outputs": [
    {
     "name": "stdout",
     "output_type": "stream",
     "text": [
      "Accuracy score: 1.0\n"
     ]
    }
   ],
   "source": [
    "print(\"Accuracy score:\" , accuracy_score(y_test , y_pred)) "
   ]
  },
  {
   "cell_type": "code",
   "execution_count": 15,
   "id": "55d561fa",
   "metadata": {},
   "outputs": [
    {
     "name": "stdout",
     "output_type": "stream",
     "text": [
      "R2 Score: 1.0\n"
     ]
    }
   ],
   "source": [
    "print(\"R2 Score:\" , r2_score(y_pred , y_test)) "
   ]
  },
  {
   "cell_type": "code",
   "execution_count": null,
   "id": "f7f5eb1f",
   "metadata": {},
   "outputs": [],
   "source": []
  }
 ],
 "metadata": {
  "kernelspec": {
   "display_name": "Python 3 (ipykernel)",
   "language": "python",
   "name": "python3"
  },
  "language_info": {
   "codemirror_mode": {
    "name": "ipython",
    "version": 3
   },
   "file_extension": ".py",
   "mimetype": "text/x-python",
   "name": "python",
   "nbconvert_exporter": "python",
   "pygments_lexer": "ipython3",
   "version": "3.9.12"
  }
 },
 "nbformat": 4,
 "nbformat_minor": 5
}
